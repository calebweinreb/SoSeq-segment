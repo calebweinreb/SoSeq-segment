{
 "cells": [
  {
   "cell_type": "markdown",
   "metadata": {},
   "source": [
    "# 2- Background segmentation\n",
    "\n",
    "![title](scratch/pipeline_diagram-2.png)\n",
    "\n",
    "The purpose of this notebook is to train and apply a neural network (UNET) for segmenting animals from the background.\n",
    "The steps include:\n",
    "\n",
    "* 2.1 Building an initial training set\n",
    "* 2.2 Iteratively augmenting the training set until desired performance is attained\n",
    "* 2.3 Applying the network to all videos"
   ]
  },
  {
   "cell_type": "markdown",
   "metadata": {},
   "source": [
    "### 2.1 Building an initial training set\n",
    "\n",
    "Scan through all recordings and save a subset of frames for manual annotation. It is assumed that the recordings were generated using the SoSeq-acquisition repository or converted to the correct format using the SoSeq-acquisition repository. "
   ]
  },
  {
   "cell_type": "code",
   "execution_count": null,
   "metadata": {},
   "outputs": [],
   "source": [
    "data_directory = '../data/' # path to directory containing video recordings\n",
    "                            # it is assumed that the recordings are all named by the convention:\n",
    "                            # <data_directory>/<name>_color.mp4\n",
    "                            # <data_directory>/<name>_depth.avi"
   ]
  }
 ],
 "metadata": {
  "kernelspec": {
   "display_name": "Python (soseq)",
   "language": "python",
   "name": "soseq"
  },
  "language_info": {
   "codemirror_mode": {
    "name": "ipython",
    "version": 3
   },
   "file_extension": ".py",
   "mimetype": "text/x-python",
   "name": "python",
   "nbconvert_exporter": "python",
   "pygments_lexer": "ipython3",
   "version": "3.7.6"
  }
 },
 "nbformat": 4,
 "nbformat_minor": 2
}
